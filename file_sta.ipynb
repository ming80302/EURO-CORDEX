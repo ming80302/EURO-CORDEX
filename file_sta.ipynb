{
 "cells": [
  {
   "cell_type": "code",
   "execution_count": 1,
   "id": "3bba44ab",
   "metadata": {},
   "outputs": [],
   "source": [
    "import glob2\n",
    "import os.path\n",
    "import os\n",
    "from subprocess import PIPE, Popen"
   ]
  },
  {
   "cell_type": "code",
   "execution_count": 2,
   "id": "430cb5c7-9b53-4482-9bdb-355b0cc17538",
   "metadata": {},
   "outputs": [],
   "source": [
    "def cmdline(command):\n",
    "    '''\n",
    "    command: like a linux command 'ls',  'pwd'\n",
    "    note: there is b' at the begining and\n",
    "                   \\n' at the end \n",
    "    '''\n",
    "    process = Popen(\n",
    "        args=command,\n",
    "        stdout=PIPE,\n",
    "        shell=True\n",
    "    )\n",
    "    return process.communicate()[0]\n",
    "\n",
    "def get_unique(list1):\n",
    "  \n",
    "    # initialize a null list\n",
    "    unique_list = []\n",
    "  \n",
    "    # traverse for all elements\n",
    "    for x in list1:\n",
    "        # check if exists in unique_list or not\n",
    "        if x not in unique_list:\n",
    "            unique_list.append(x)\n",
    "    \n",
    "    return(unique_list)\n",
    "\n",
    "\n",
    "def count_file(grid, time, var_lst):\n",
    "    '''\n",
    "    grid: there are two grid, '11' and '44'\n",
    "    time: 'mon' or 'day'\n",
    "    count total files of each variable in FRONTIER data directory\n",
    "    /glade/campaign/mmm/c3we/FRONTIER/data/\n",
    "    '''\n",
    "    dir_i = '/glade/campaign/mmm/c3we/FRONTIER/data/EUR-' + grid +'/'\n",
    "    print(dir_i)\n",
    "    #dir_day = glob2.glob(dir_i + '*/*/*/day')\n",
    "    #dir_monthly = glob2.glob(dir_i + '*/*/*/mon/')\n",
    "    cmd = 'ls '\n",
    "    for var in var_lst:\n",
    "         aa = str(cmdline(cmd + dir_i + '*/*/*/'+ time +'/' + var + '/*nc |wc -l '))\n",
    "         aa = aa.replace('b\\'', '')   # \"b'1517\\\\n'\"\n",
    "         aa = aa.replace('\\\\n\\'', '')  \n",
    "         print(aa, var)    \n",
    "        \n",
    "def id_list(d1_lst, d0_lst, var_s, var_s1, day_mon):\n",
    "    '''\n",
    "    d1_lst: directory\n",
    "    d0_lst: previous directory\n",
    "    var_s1: varialbe names from d0_lst, normoally I just pick the variable with most files\n",
    "    day_mon: 'day' or 'mon', dayly or monthly data\n",
    "    '''\n",
    "    id_s = []\n",
    "    id_all = []\n",
    " \n",
    "    for d1, d0 in zip(d1_lst, d0_lst):\n",
    "        flnm6_all = glob2.glob(d1 + '/' + var_s1 + '/*')\n",
    "        #flnm6_all = glob2.glob(d1 + '/zg500/*')\n",
    "        #print(flnm6_all )\n",
    "        for flnm6 in flnm6_all:\n",
    "            # use partition to  get a string after a specific substring?\n",
    "            #print(flnm6)\n",
    "         \n",
    "            yyyymm_s = flnm6.partition(day_mon+\"_\")[2][:6]\n",
    "            #print(yyyymm_s)\n",
    "            # get RCM, 5th '_'\n",
    "            rcm_s = flnm6.split('_')[5]\n",
    "        \n",
    "            # get GCM 3rd '_'\n",
    "            gcm_s = flnm6.split('_')[2]\n",
    "\n",
    "            # get scenariao \n",
    "            scen_s = flnm6.split('_')[3]\n",
    "\n",
    "            # get realization\n",
    "            real_s = flnm6.split('_')[4]\n",
    "\n",
    "            identifier = flnm6.split('_')[2] + \"_\" + flnm6.split('_')[3] + \"_\" + flnm6.split('_')[4] + \"_\" + flnm6.split('_')[5]\n",
    "            #print('1',flnm6, yyyymm_s , \" \" + rcm_s + \" \" + gcm_s + \" \" + scen_s  + \" \" + real_s )\n",
    "        \n",
    "            # for each 6hr ua850 dataset, check availability of other variables\n",
    "            for va in range(len(var_s)):\n",
    "                flnm = glob2.glob(d0 + '/' + day_mon +'/' + var_s[va] + '/' + var_s[va] + '_*' + gcm_s + '_*' + rcm_s + '_v*' + yyyymm_s + '*nc')\n",
    "                #print('2', d0 + '/'+day_mon+'/' + var_s[va] + '/' + var_s[va] + '_*' + gcm_s + '_*' + rcm_s + '_v*' + yyyymm_s + '*nc' )\n",
    "             \n",
    "                if len(flnm)==0:\n",
    "                    #if not os.path.exists(flnm[0]):\n",
    "                    # throw out datasets without all 7 required variables\n",
    "                    break\n",
    "                else:\n",
    "                    if va==len(var_s)-1:\n",
    "                        yyyymm_id = str(yyyymm_s) + \"_\" + identifier\n",
    "                        id_s.append(identifier)\n",
    "                        id_all.append(yyyymm_id)\n",
    "                        #print(identifier)\n",
    "                        \n",
    "    return id_s, id_all"
   ]
  },
  {
   "cell_type": "markdown",
   "id": "e310f04b-66a8-41b3-9eb9-485b15e92f4e",
   "metadata": {},
   "source": [
    "### Monthly variables Overview\n",
    "#### count total files of each variable"
   ]
  },
  {
   "cell_type": "code",
   "execution_count": 3,
   "id": "3d924d68-dd15-4962-b1f1-e8b530732b3a",
   "metadata": {},
   "outputs": [],
   "source": [
    "var_monthly = [ 'zg850','zg500','zg200','ua850','ua500','ua200','va850','va500','va200','ta850','ta500','ta200','hus850'] "
   ]
  },
  {
   "cell_type": "code",
   "execution_count": 4,
   "id": "2f5020d9-a044-49d0-9f64-7e556c2cb234",
   "metadata": {},
   "outputs": [
    {
     "name": "stdout",
     "output_type": "stream",
     "text": [
      "/glade/campaign/mmm/c3we/FRONTIER/data/EUR-11/\n",
      "10 zg850\n",
      "1517 zg500\n",
      "1486 zg200\n",
      "1481 ua850\n",
      "1486 ua500\n",
      "1486 ua200\n",
      "1481 va850\n",
      "1486 va500\n",
      "1486 va200\n",
      "1492 ta850\n",
      "1497 ta500\n",
      "1497 ta200\n",
      "1482 hus850\n"
     ]
    }
   ],
   "source": [
    "### Grid .11\n",
    "grid = '11'\n",
    "day_mon = 'mon'\n",
    "count_file(grid, day_mon, var_monthly)"
   ]
  },
  {
   "cell_type": "code",
   "execution_count": 5,
   "id": "9ac83751-baa4-40b0-bdd4-aa8a596b2429",
   "metadata": {},
   "outputs": [
    {
     "name": "stdout",
     "output_type": "stream",
     "text": [
      "/glade/campaign/mmm/c3we/FRONTIER/data/EUR-44/\n",
      "0 zg850\n",
      "534 zg500\n",
      "503 zg200\n",
      "503 ua850\n",
      "503 ua500\n"
     ]
    },
    {
     "name": "stderr",
     "output_type": "stream",
     "text": [
      "ls: cannot access /glade/campaign/mmm/c3we/FRONTIER/data/EUR-44/*/*/*/mon/zg850/*nc: No such file or directory\n"
     ]
    },
    {
     "name": "stdout",
     "output_type": "stream",
     "text": [
      "503 ua200\n",
      "503 va850\n",
      "503 va500\n",
      "503 va200\n",
      "503 ta850\n",
      "507 ta500\n",
      "507 ta200\n",
      "543 hus850\n"
     ]
    }
   ],
   "source": [
    "grid = '44'\n",
    "count_file(grid, day_mon, var_monthly)"
   ]
  },
  {
   "cell_type": "markdown",
   "id": "6835a3aa-f4ec-4683-a95e-f274cf9d9e77",
   "metadata": {},
   "source": [
    "#### because there are only 10 zg850 files in EUR-11, \n",
    "I extract it from variable list. Those 10 files are:"
   ]
  },
  {
   "cell_type": "code",
   "execution_count": 6,
   "id": "65cf6c85-8ed0-4e8a-9b2d-3893f79965c6",
   "metadata": {},
   "outputs": [
    {
     "name": "stdout",
     "output_type": "stream",
     "text": [
      "there are  10  zg850 files and they are\n"
     ]
    },
    {
     "data": {
      "text/plain": [
       "['/glade/campaign/mmm/c3we/FRONTIER/data/EUR-11/rcp85/CNRM-CERFACS-CNRM-CM5/r1i1p1/mon/zg850/zg850_EUR-11_CNRM-CERFACS-CNRM-CM5_rcp85_r1i1p1_CLMcom-ETH-COSMO-crCLIM-v1-1_v1_mon_200601-201012.nc',\n",
       " '/glade/campaign/mmm/c3we/FRONTIER/data/EUR-11/rcp85/CNRM-CERFACS-CNRM-CM5/r1i1p1/mon/zg850/zg850_EUR-11_CNRM-CERFACS-CNRM-CM5_rcp85_r1i1p1_CLMcom-ETH-COSMO-crCLIM-v1-1_v1_mon_201101-202012.nc',\n",
       " '/glade/campaign/mmm/c3we/FRONTIER/data/EUR-11/rcp85/CNRM-CERFACS-CNRM-CM5/r1i1p1/mon/zg850/zg850_EUR-11_CNRM-CERFACS-CNRM-CM5_rcp85_r1i1p1_CLMcom-ETH-COSMO-crCLIM-v1-1_v1_mon_202101-203012.nc',\n",
       " '/glade/campaign/mmm/c3we/FRONTIER/data/EUR-11/rcp85/CNRM-CERFACS-CNRM-CM5/r1i1p1/mon/zg850/zg850_EUR-11_CNRM-CERFACS-CNRM-CM5_rcp85_r1i1p1_CLMcom-ETH-COSMO-crCLIM-v1-1_v1_mon_203101-204012.nc',\n",
       " '/glade/campaign/mmm/c3we/FRONTIER/data/EUR-11/rcp85/CNRM-CERFACS-CNRM-CM5/r1i1p1/mon/zg850/zg850_EUR-11_CNRM-CERFACS-CNRM-CM5_rcp85_r1i1p1_CLMcom-ETH-COSMO-crCLIM-v1-1_v1_mon_204101-205012.nc',\n",
       " '/glade/campaign/mmm/c3we/FRONTIER/data/EUR-11/rcp85/CNRM-CERFACS-CNRM-CM5/r1i1p1/mon/zg850/zg850_EUR-11_CNRM-CERFACS-CNRM-CM5_rcp85_r1i1p1_CLMcom-ETH-COSMO-crCLIM-v1-1_v1_mon_205101-206012.nc',\n",
       " '/glade/campaign/mmm/c3we/FRONTIER/data/EUR-11/rcp85/CNRM-CERFACS-CNRM-CM5/r1i1p1/mon/zg850/zg850_EUR-11_CNRM-CERFACS-CNRM-CM5_rcp85_r1i1p1_CLMcom-ETH-COSMO-crCLIM-v1-1_v1_mon_206101-207012.nc',\n",
       " '/glade/campaign/mmm/c3we/FRONTIER/data/EUR-11/rcp85/CNRM-CERFACS-CNRM-CM5/r1i1p1/mon/zg850/zg850_EUR-11_CNRM-CERFACS-CNRM-CM5_rcp85_r1i1p1_CLMcom-ETH-COSMO-crCLIM-v1-1_v1_mon_207101-208012.nc',\n",
       " '/glade/campaign/mmm/c3we/FRONTIER/data/EUR-11/rcp85/CNRM-CERFACS-CNRM-CM5/r1i1p1/mon/zg850/zg850_EUR-11_CNRM-CERFACS-CNRM-CM5_rcp85_r1i1p1_CLMcom-ETH-COSMO-crCLIM-v1-1_v1_mon_208101-209012.nc',\n",
       " '/glade/campaign/mmm/c3we/FRONTIER/data/EUR-11/rcp85/CNRM-CERFACS-CNRM-CM5/r1i1p1/mon/zg850/zg850_EUR-11_CNRM-CERFACS-CNRM-CM5_rcp85_r1i1p1_CLMcom-ETH-COSMO-crCLIM-v1-1_v1_mon_209101-210012.nc']"
      ]
     },
     "execution_count": 6,
     "metadata": {},
     "output_type": "execute_result"
    }
   ],
   "source": [
    "grid = '11'\n",
    "cmd = 'ls '\n",
    "\n",
    "# there are 2 data directories EUR-11 and EUR-44\n",
    "dir_i = '/glade/campaign/mmm/c3we/FRONTIER/data/EUR-' + grid +'/'\n",
    "dir_day = glob2.glob(dir_i + '*/*/*/day')\n",
    "dir_monthly = glob2.glob(dir_i + '*/*/*/mon')\n",
    "\n",
    "flnm_s = str(cmdline(cmd + dir_i + '*/*/*/mon/' + 'zg850' + '/*nc '))\n",
    "# remove b' at the start of the str\n",
    "flnm_s = flnm_s.replace('b\\'', '')  \n",
    "\n",
    "# remove n' at the end of str\n",
    "flnm_s  = flnm_s.replace('n\\'', ' ')   \n",
    "\n",
    "# replace \\n with space\n",
    "flnm_s  = flnm_s.replace('\\\\n', ' ') \n",
    "\n",
    "## remove \\ at the end of str\n",
    "flnm_s  = flnm_s.replace('\\\\ ', '') \n",
    " \n",
    "flnm_lst =flnm_s.split(' ')\n",
    "print('there are ', len(flnm_lst), ' zg850 files and they are')\n",
    "flnm_lst"
   ]
  },
  {
   "cell_type": "markdown",
   "id": "f1fef8e5-8bfe-4a03-a61c-29a585f87de7",
   "metadata": {},
   "source": [
    "#### count those situations with all variables\n",
    "#####  'zg500','zg200','ua850','ua500','ua200','va850','va500','va200','ta850','ta500','ta200','hus850'"
   ]
  },
  {
   "cell_type": "code",
   "execution_count": 7,
   "id": "b94fa6b0",
   "metadata": {},
   "outputs": [],
   "source": [
    "var_monthly = [ 'zg500','zg200','ua850','ua500','ua200','va850','va500','va200','ta850','ta500','ta200','hus850'] \n",
    " \n",
    "var_s = var_monthly\n",
    "n_var = len(var_s)\n",
    "n_var\n",
    "\n",
    "scenariao = ['evaluation', 'historical',  'rcp26', 'rcp45', 'rcp85']\n",
    "n_scen = len(scenariao)"
   ]
  },
  {
   "cell_type": "code",
   "execution_count": null,
   "id": "7338a210-9e28-4150-a439-d0d478868887",
   "metadata": {},
   "outputs": [],
   "source": []
  },
  {
   "cell_type": "code",
   "execution_count": 8,
   "id": "f07b2c42",
   "metadata": {},
   "outputs": [],
   "source": [
    "# there are 2 data directories EUR-11 and EUR-44\n",
    "\n",
    "grid = '11'\n",
    "\n",
    "dir_i = '/glade/campaign/mmm/c3we/FRONTIER/data/EUR-' + grid +'/'\n",
    "dir_day = glob2.glob(dir_i + '*/*/*/day')\n",
    "dir_monthly = glob2.glob(dir_i + '*/*/*/mon')"
   ]
  },
  {
   "cell_type": "code",
   "execution_count": 9,
   "id": "65650238",
   "metadata": {},
   "outputs": [],
   "source": [
    "#iterate through day/month lists\n",
    "\n",
    "d_monthly = []\n",
    "monthly_dir = []\n",
    "for mon in dir_monthly:\n",
    "    d_monthly.append(mon)\n",
    "    monthly_dir.append(mon[:-4])"
   ]
  },
  {
   "cell_type": "code",
   "execution_count": 10,
   "id": "a5bd2800-582b-427c-8a11-0563ac245d6c",
   "metadata": {},
   "outputs": [],
   "source": [
    "#print(d_monthly)\n",
    "#monthly_dir \n",
    "\n",
    "id_s, id_all = id_list(d_monthly, monthly_dir, var_monthly, 'zg500', 'mon')\n",
    " "
   ]
  },
  {
   "cell_type": "code",
   "execution_count": 11,
   "id": "19636c0b",
   "metadata": {},
   "outputs": [],
   "source": [
    "is_all = False\n",
    "\n",
    "if is_all == True:\n",
    "    with open('allVar_' + grid + '.txt', 'w') as f:\n",
    "        for line in get_unique(id_all):\n",
    "            f.write(f\"{line}\\n\")\n",
    "else:\n",
    "    with open('uniqueVar_'+ grid + '.txt', 'w') as f:\n",
    "        for line in get_unique(id_s):\n",
    "            f.write(f\"{line}\\n\")\n",
    "            "
   ]
  },
  {
   "cell_type": "code",
   "execution_count": 12,
   "id": "167fc21d",
   "metadata": {},
   "outputs": [
    {
     "name": "stdout",
     "output_type": "stream",
     "text": [
      "evaluation\n",
      "9\n",
      "historical\n",
      "67\n",
      "rcp26\n",
      "28\n",
      "rcp45\n",
      "23\n",
      "rcp85\n",
      "49\n"
     ]
    }
   ],
   "source": [
    "cmd = 'grep ' \n",
    "flnm = ' uniqueVar_' + grid + '.txt'\n",
    "\n",
    "for scen in scenariao:\n",
    "    print(scen)\n",
    "    aa = str(cmdline(cmd + scen + flnm))\n",
    "    aa = aa.replace('b\\'', '') \n",
    "    \n",
    "    flnm_s=aa.split('\\\\n')\n",
    "    # last one is \",\"\n",
    "    print(len(flnm_s) - 1)\n",
    "         "
   ]
  },
  {
   "cell_type": "markdown",
   "id": "87c00376-c268-44cf-93a9-6fbbc74c6895",
   "metadata": {},
   "source": [
    "### Daily variables overview\n",
    "#### count total files for each variable"
   ]
  },
  {
   "cell_type": "code",
   "execution_count": 13,
   "id": "dd3da2c6-b5b0-4329-bed4-984fac9b3f52",
   "metadata": {},
   "outputs": [
    {
     "data": {
      "text/plain": [
       "8"
      ]
     },
     "execution_count": 13,
     "metadata": {},
     "output_type": "execute_result"
    }
   ],
   "source": [
    "var_daily = ['rlut', 'pr', 'psl', 'prw', 'clt', 'tas', 'tasmin', 'tasmax']\n",
    "var_s = var_daily\n",
    "n_var = len(var_s)\n",
    "n_var"
   ]
  },
  {
   "cell_type": "code",
   "execution_count": 19,
   "id": "3f438711-0330-4d5a-8c9f-2cbcb7cdf79e",
   "metadata": {},
   "outputs": [
    {
     "name": "stdout",
     "output_type": "stream",
     "text": [
      "/glade/campaign/mmm/c3we/FRONTIER/data/EUR-44/\n",
      "1141 rlut\n",
      "1296 pr\n",
      "1177 psl\n",
      "955 prw\n",
      "981 clt\n",
      "1308 tas\n",
      "1212 tasmin\n",
      "1240 tasmax\n"
     ]
    }
   ],
   "source": [
    "### Grid .11\n",
    "grid = '44'\n",
    "day_mon = 'day'\n",
    "count_file(grid, day_mon, var_daily)"
   ]
  },
  {
   "cell_type": "code",
   "execution_count": 20,
   "id": "c9b0dc32-2d03-406f-b431-dba39846624e",
   "metadata": {},
   "outputs": [
    {
     "name": "stdout",
     "output_type": "stream",
     "text": [
      "/glade/campaign/mmm/c3we/FRONTIER/data/EUR-44/\n",
      "1141 rlut\n",
      "1296 pr\n",
      "1177 psl\n",
      "955 prw\n",
      "981 clt\n",
      "1308 tas\n",
      "1212 tasmin\n",
      "1240 tasmax\n"
     ]
    }
   ],
   "source": [
    "### Grid .44\n",
    "grid = '44' \n",
    "count_file(grid, day_mon, var_daily)"
   ]
  },
  {
   "cell_type": "markdown",
   "id": "8335cbbe-9b72-4e69-9529-286f8fb21b13",
   "metadata": {},
   "source": [
    "#### count those situations with all daily variables\n",
    "'rlut', 'pr', 'psl', 'prw', 'clt', 'tas', 'tasmin', 'tasmax'"
   ]
  },
  {
   "cell_type": "code",
   "execution_count": 21,
   "id": "4fb9fa1e-6895-4817-9d82-a6beebcf4a26",
   "metadata": {},
   "outputs": [],
   "source": [
    "# there are 2 data directories EUR-11 and EUR-44\n",
    "grid = '11'\n",
    "\n",
    "dir_i = '/glade/campaign/mmm/c3we/FRONTIER/data/EUR-' + grid +'/'\n",
    "dir_day = glob2.glob(dir_i + '*/*/*/day')\n",
    "\n",
    "#iterate through day/month lists\n",
    "d_day = []\n",
    "day_dir = []\n",
    "for day in dir_day:\n",
    "    d_day.append(day)\n",
    "    day_dir.append(day[:-4]) \n",
    "    \n",
    "id_s, id_all = id_list(d_day, day_dir, var_daily, 'tas', 'day')\n"
   ]
  },
  {
   "cell_type": "code",
   "execution_count": 22,
   "id": "ab9d0bc0-dc3d-44e0-9ab4-df8c7debc3c1",
   "metadata": {},
   "outputs": [],
   "source": [
    "if is_all == True:\n",
    "    with open('allVar_day_' + grid + '.txt', 'w') as f:\n",
    "        for line in get_unique(id_all):\n",
    "            f.write(f\"{line}\\n\")\n",
    "else:\n",
    "    flnm = 'uniqueVar_day_'+ grid + '.txt'\n",
    "    with open(flnm, 'w') as f:\n",
    "        for line in get_unique(id_s):\n",
    "            f.write(f\"{line}\\n\")"
   ]
  },
  {
   "cell_type": "code",
   "execution_count": 23,
   "id": "846ac9ae",
   "metadata": {},
   "outputs": [
    {
     "name": "stdout",
     "output_type": "stream",
     "text": [
      "uniqueVar_day_11.txt\n",
      "evaluation\n",
      "7\n",
      "historical\n",
      "6\n",
      "rcp26\n",
      "17\n",
      "rcp45\n",
      "18\n",
      "rcp85\n",
      "13\n"
     ]
    }
   ],
   "source": [
    "cmd = 'grep '\n",
    "print(flnm)\n",
    "for scen in scenariao:\n",
    "    print(scen)\n",
    "    aa = str(cmdline(cmd + scen + \" \" + flnm))\n",
    "    aa = aa.replace('b\\'', '') \n",
    "    \n",
    "    flnm_s=aa.split('\\\\n')\n",
    "    # last one is \",\"\n",
    "    print(len(flnm_s) - 1)"
   ]
  },
  {
   "cell_type": "code",
   "execution_count": null,
   "id": "0d026764-43a9-4476-9659-c06a151a579d",
   "metadata": {},
   "outputs": [],
   "source": []
  },
  {
   "cell_type": "code",
   "execution_count": null,
   "id": "0b65ecf8",
   "metadata": {},
   "outputs": [],
   "source": []
  },
  {
   "cell_type": "code",
   "execution_count": null,
   "id": "0246e004",
   "metadata": {},
   "outputs": [],
   "source": [
    " "
   ]
  }
 ],
 "metadata": {
  "kernelspec": {
   "display_name": "NPL3 (casper_2020)",
   "language": "python",
   "name": "npl3-casper_2020"
  },
  "language_info": {
   "codemirror_mode": {
    "name": "ipython",
    "version": 3
   },
   "file_extension": ".py",
   "mimetype": "text/x-python",
   "name": "python",
   "nbconvert_exporter": "python",
   "pygments_lexer": "ipython3",
   "version": "3.9.6"
  }
 },
 "nbformat": 4,
 "nbformat_minor": 5
}
